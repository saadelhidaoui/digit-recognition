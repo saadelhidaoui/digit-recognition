{
 "cells": [
  {
   "cell_type": "code",
   "execution_count": 1,
   "metadata": {},
   "outputs": [],
   "source": [
    "import pandas as pd\n",
    "import numpy as np\n",
    "import tensorflow as tf\n",
    "from tensorflow.keras.models import Sequential\n",
    "from tensorflow.keras.layers import Dense, Conv2D, MaxPooling2D, Flatten\n",
    "from tensorflow.keras.utils import to_categorical\n",
    "from sklearn.model_selection import train_test_split\n",
    "from sklearn.preprocessing import StandardScaler\n"
   ]
  },
  {
   "cell_type": "code",
   "execution_count": 2,
   "metadata": {},
   "outputs": [],
   "source": [
    "train_dataset = pd.read_csv('data/train.csv')\n",
    "test_dataset = pd.read_csv('data/test.csv')"
   ]
  },
  {
   "cell_type": "code",
   "execution_count": 3,
   "metadata": {},
   "outputs": [
    {
     "name": "stdout",
     "output_type": "stream",
     "text": [
      "0\n",
      "0\n"
     ]
    }
   ],
   "source": [
    "# Check for missing values\n",
    "print(train_dataset.isnull().sum().sum())\n",
    "print(test_dataset.isnull().sum().sum())"
   ]
  },
  {
   "cell_type": "code",
   "execution_count": 4,
   "metadata": {},
   "outputs": [],
   "source": [
    "# Separate features and labels\n",
    "X = train_dataset.drop(columns=['label']).values\n",
    "y = train_dataset['label'].values"
   ]
  },
  {
   "cell_type": "code",
   "execution_count": 5,
   "metadata": {},
   "outputs": [],
   "source": [
    "# Normalize the pixel values\n",
    "X = X / 255.0\n",
    "test_data = test_dataset.values / 255.0"
   ]
  },
  {
   "cell_type": "code",
   "execution_count": 6,
   "metadata": {},
   "outputs": [],
   "source": [
    "# Reshape data to fit the model input (28x28x1)\n",
    "X = X.reshape(-1, 28, 28, 1)\n",
    "test_data = test_data.reshape(-1, 28, 28, 1)"
   ]
  },
  {
   "cell_type": "code",
   "execution_count": 7,
   "metadata": {},
   "outputs": [],
   "source": [
    "# Convert labels to categorical format\n",
    "y = to_categorical(y, num_classes=10)"
   ]
  },
  {
   "cell_type": "code",
   "execution_count": 8,
   "metadata": {},
   "outputs": [
    {
     "data": {
      "image/png": "[encoded data removed]",
      "text/plain": [
       "<Figure size 432x288 with 1 Axes>"
      ]
     },
     "metadata": {
      "needs_background": "light"
     },
     "output_type": "display_data"
    }
   ],
   "source": [
    "import matplotlib.pyplot as plt\n",
    "index = 3\n",
    "sample_image = X[index]\n",
    "sample_label = y[index]\n",
    "\n",
    "sample_image = sample_image.squeeze()  # Shape becomes (28, 28)\n",
    "\n",
    "# Display the image\n",
    "plt.imshow(sample_image, cmap='gray')\n",
    "plt.title(f'Label: {sample_label}')\n",
    "plt.axis('off')  # Hide axes\n",
    "plt.show()"
   ]
  },
  {
   "cell_type": "code",
   "execution_count": 9,
   "metadata": {},
   "outputs": [],
   "source": [
    "# Split the training data into training and validation sets\n",
    "X_train, X_val, y_train, y_val = train_test_split(X, y, test_size=0.2, random_state=42)"
   ]
  },
  {
   "cell_type": "code",
   "execution_count": 10,
   "metadata": {},
   "outputs": [],
   "source": [
    "model = Sequential([\n",
    "    Conv2D(32, kernel_size=(3, 3), activation='relu', input_shape=(28, 28, 1)),\n",
    "    MaxPooling2D(pool_size=(2, 2)),\n",
    "    Conv2D(64, kernel_size=(3, 3), activation='relu'),\n",
    "    MaxPooling2D(pool_size=(2, 2)),\n",
    "    Conv2D(128, kernel_size=(3, 3), activation='relu'),\n",
    "    MaxPooling2D(pool_size=(2, 2)),\n",
    "    Flatten(),\n",
    "    Dense(128, activation='relu'),\n",
    "    Dense(10, activation='softmax')\n",
    "])"
   ]
  },
  {
   "cell_type": "code",
   "execution_count": 11,
   "metadata": {},
   "outputs": [],
   "source": [
    "# Compile the model\n",
    "model.compile(optimizer='adam',\n",
    "              loss='categorical_crossentropy',\n",
    "              metrics=['accuracy'])"
   ]
  },
  {
   "cell_type": "code",
   "execution_count": 12,
   "metadata": {},
   "outputs": [
    {
     "name": "stdout",
     "output_type": "stream",
     "text": [
      "Epoch 1/25\n",
      "525/525 [==============================] - 18s 31ms/step - loss: 0.3195 - accuracy: 0.9021 - val_loss: 0.1277 - val_accuracy: 0.9590\n",
      "Epoch 2/25\n",
      "525/525 [==============================] - 17s 33ms/step - loss: 0.1029 - accuracy: 0.9674 - val_loss: 0.0882 - val_accuracy: 0.9721\n",
      "Epoch 3/25\n",
      "525/525 [==============================] - 17s 32ms/step - loss: 0.0696 - accuracy: 0.9772 - val_loss: 0.0718 - val_accuracy: 0.9777\n",
      "Epoch 4/25\n",
      "525/525 [==============================] - 21s 40ms/step - loss: 0.0561 - accuracy: 0.9816 - val_loss: 0.0675 - val_accuracy: 0.9792\n",
      "Epoch 5/25\n",
      "525/525 [==============================] - 19s 36ms/step - loss: 0.0460 - accuracy: 0.9860 - val_loss: 0.0572 - val_accuracy: 0.9831\n",
      "Epoch 6/25\n",
      "525/525 [==============================] - 23s 43ms/step - loss: 0.0363 - accuracy: 0.9885 - val_loss: 0.0572 - val_accuracy: 0.9830\n",
      "Epoch 7/25\n",
      "525/525 [==============================] - 24s 45ms/step - loss: 0.0305 - accuracy: 0.9900 - val_loss: 0.0498 - val_accuracy: 0.9848\n",
      "Epoch 8/25\n",
      "525/525 [==============================] - 17s 33ms/step - loss: 0.0256 - accuracy: 0.9916 - val_loss: 0.0596 - val_accuracy: 0.9814\n",
      "Epoch 9/25\n",
      "525/525 [==============================] - 16s 31ms/step - loss: 0.0214 - accuracy: 0.9927 - val_loss: 0.0602 - val_accuracy: 0.9823\n",
      "Epoch 10/25\n",
      "525/525 [==============================] - 18s 35ms/step - loss: 0.0218 - accuracy: 0.9928 - val_loss: 0.0888 - val_accuracy: 0.9764\n",
      "Epoch 11/25\n",
      "525/525 [==============================] - 19s 35ms/step - loss: 0.0168 - accuracy: 0.9941 - val_loss: 0.0498 - val_accuracy: 0.9863\n",
      "Epoch 12/25\n",
      "525/525 [==============================] - 23s 44ms/step - loss: 0.0149 - accuracy: 0.9950 - val_loss: 0.0638 - val_accuracy: 0.9831\n",
      "Epoch 13/25\n",
      "525/525 [==============================] - 19s 36ms/step - loss: 0.0130 - accuracy: 0.9957 - val_loss: 0.0682 - val_accuracy: 0.9839\n",
      "Epoch 14/25\n",
      "525/525 [==============================] - 22s 41ms/step - loss: 0.0140 - accuracy: 0.9955 - val_loss: 0.0572 - val_accuracy: 0.9880\n",
      "Epoch 15/25\n",
      "525/525 [==============================] - 18s 34ms/step - loss: 0.0124 - accuracy: 0.9959 - val_loss: 0.0877 - val_accuracy: 0.9801\n",
      "Epoch 16/25\n",
      "525/525 [==============================] - 19s 37ms/step - loss: 0.0091 - accuracy: 0.9972 - val_loss: 0.0660 - val_accuracy: 0.9857\n",
      "Epoch 17/25\n",
      "525/525 [==============================] - 23s 45ms/step - loss: 0.0113 - accuracy: 0.9961 - val_loss: 0.0750 - val_accuracy: 0.9835\n",
      "Epoch 18/25\n",
      "525/525 [==============================] - 24s 46ms/step - loss: 0.0089 - accuracy: 0.9972 - val_loss: 0.0605 - val_accuracy: 0.9860\n",
      "Epoch 19/25\n",
      "525/525 [==============================] - 26s 50ms/step - loss: 0.0066 - accuracy: 0.9979 - val_loss: 0.0708 - val_accuracy: 0.9865\n",
      "Epoch 20/25\n",
      "525/525 [==============================] - 27s 51ms/step - loss: 0.0069 - accuracy: 0.9974 - val_loss: 0.0664 - val_accuracy: 0.9852\n",
      "Epoch 21/25\n",
      "525/525 [==============================] - 24s 46ms/step - loss: 0.0078 - accuracy: 0.9976 - val_loss: 0.0609 - val_accuracy: 0.9858\n",
      "Epoch 22/25\n",
      "525/525 [==============================] - 24s 45ms/step - loss: 0.0089 - accuracy: 0.9969 - val_loss: 0.0673 - val_accuracy: 0.9851\n",
      "Epoch 23/25\n",
      "525/525 [==============================] - 23s 44ms/step - loss: 0.0046 - accuracy: 0.9985 - val_loss: 0.0718 - val_accuracy: 0.9851\n",
      "Epoch 24/25\n",
      "525/525 [==============================] - 22s 41ms/step - loss: 0.0078 - accuracy: 0.9976 - val_loss: 0.0676 - val_accuracy: 0.9868\n",
      "Epoch 25/25\n",
      "525/525 [==============================] - 25s 47ms/step - loss: 0.0075 - accuracy: 0.9974 - val_loss: 0.0666 - val_accuracy: 0.9863\n"
     ]
    }
   ],
   "source": [
    "# Train the model\n",
    "history = model.fit(X_train, y_train,\n",
    "                    validation_data=(X_val, y_val),\n",
    "                    epochs=25,\n",
    "                    batch_size=64)"
   ]
  },
  {
   "cell_type": "code",
   "execution_count": 13,
   "metadata": {},
   "outputs": [
    {
     "name": "stdout",
     "output_type": "stream",
     "text": [
      "263/263 [==============================] - 2s 9ms/step - loss: 0.0666 - accuracy: 0.9863\n",
      "Validation Loss: 0.0666, Validation Accuracy: 0.9863\n"
     ]
    }
   ],
   "source": [
    "# Evaluate the model on the validation set\n",
    "val_loss, val_accuracy = model.evaluate(X_val, y_val)\n",
    "print(f'Validation Loss: {val_loss:.4f}, Validation Accuracy: {val_accuracy:.4f}')"
   ]
  },
  {
   "cell_type": "code",
   "execution_count": 14,
   "metadata": {},
   "outputs": [
    {
     "name": "stdout",
     "output_type": "stream",
     "text": [
      "875/875 [==============================] - 8s 9ms/step\n"
     ]
    }
   ],
   "source": [
    "# Predict on test data\n",
    "test_predictions = model.predict(test_data)\n",
    "test_predictions = np.argmax(test_predictions, axis=1)"
   ]
  },
  {
   "cell_type": "code",
   "execution_count": 15,
   "metadata": {},
   "outputs": [],
   "source": [
    "submission = pd.DataFrame({'ImageId': np.arange(1, len(test_predictions) + 1), 'Label': test_predictions})\n",
    "submission.to_csv('submission.csv', index=False)"
   ]
  }
 ],
 "metadata": {
  "kernelspec": {
   "display_name": "base",
   "language": "python",
   "name": "python3"
  },
  "language_info": {
   "codemirror_mode": {
    "name": "ipython",
    "version": 3
   },
   "file_extension": ".py",
   "mimetype": "text/x-python",
   "name": "python",
   "nbconvert_exporter": "python",
   "pygments_lexer": "ipython3",
   "version": "3.9.7"
  }
 },
 "nbformat": 4,
 "nbformat_minor": 2
}
